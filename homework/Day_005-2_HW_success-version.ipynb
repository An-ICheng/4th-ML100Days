{
 "cells": [
  {
   "cell_type": "markdown",
   "metadata": {},
   "source": [
    "## 讀取 txt 檔\n",
    "* 請讀取 [text file](https://raw.githubusercontent.com/vashineyu/slides_and_others/master/tutorial/examples/imagenet_urls_examples.txt)\n",
    "* 懶人複製連結: https://raw.githubusercontent.com/vashineyu/slides_and_others/master/tutorial/examples/imagenet_urls_examples.txt\n",
    "\n",
    "### Hints: 使用 [Request](https://blog.gtwang.org/programming/python-requests-module-tutorial/) 抓取資料\n",
    "### Hints: [字串分割](http://www.runoob.com/python/att-string-split.html)\n",
    "### Hints: 例外處理: [Try-Except](https://pydoing.blogspot.com/2011/01/python-try.html)"
   ]
  },
  {
   "cell_type": "markdown",
   "metadata": {},
   "source": [
    "# [作業目標]\n",
    "- 試著讀取網頁上的圖片連結清單, 再以清單中網址讀取圖片"
   ]
  },
  {
   "cell_type": "markdown",
   "metadata": {},
   "source": [
    "# [作業重點]\n",
    "- 從網頁上讀取連結清單 (In[1], In[2])\n",
    "- 從清單網址讀取圖片 (In[6]~In[9], Out[6]~Out[9])"
   ]
  },
  {
   "cell_type": "code",
   "execution_count": null,
   "metadata": {},
   "outputs": [],
   "source": [
    "## 假如我們不想把資料載到自己的電腦裡?\n",
    "# 把連結填入\n",
    "target_url = 'https://raw.githubusercontent.com/vashineyu/slides_and_others/master/tutorial/examples/imagenet_urls_examples.txt'"
   ]
  },
  {
   "cell_type": "code",
   "execution_count": null,
   "metadata": {},
   "outputs": [],
   "source": [
    "import requests\n",
    "response = requests.get(target_url)\n",
    "data = response.text\n",
    "\n",
    "# 用 request 傳送回來的資料不會認得斷行符號\n",
    "print(len(data))\n",
    "data[0:100]"
   ]
  },
  {
   "cell_type": "code",
   "execution_count": null,
   "metadata": {
    "scrolled": true
   },
   "outputs": [],
   "source": [
    "# 找到換行符號，用該符號做字串分割後，把它拿掉\n",
    "split_tag1 = '\\n'\n",
    "\n",
    "data1 = data.split(split_tag1)\n",
    "# split_tag2 = '\\t'\n",
    "# data2 = data.split(split_tag2)\n",
    "# print(len(data2))\n",
    "# data2[0:10]"
   ]
  },
  {
   "cell_type": "markdown",
   "metadata": {},
   "source": [
    "## 將 txt 轉成 pandas dataframe，且在 df 裡將資料透過 \\t 作分割，參考資料 https://zhuanlan.zhihu.com/p/30529129"
   ]
  },
  {
   "cell_type": "code",
   "execution_count": null,
   "metadata": {},
   "outputs": [],
   "source": [
    "import pandas as pd\n",
    "\n",
    "# 先將data1變成dataframe\n",
    "df = pd.DataFrame(data1)\n",
    "# 將dataframe的column命名\n",
    "df.columns = ['a']\n",
    "# 將dataframe欄位內的資料以 \\t 分割\n",
    "df1 = df['a'].str.split('\\t',expand=True)\n",
    "# 將分割好的dataframe的欄位命名，參考資料https://stackoverflow.com/questions/11346283/renaming-columns-in-pandas\n",
    "df1.columns = ['id','url']\n",
    "df1\n",
    "df1.head()"
   ]
  },
  {
   "cell_type": "markdown",
   "metadata": {},
   "source": [
    "## 讀取圖片，請讀取上面 data frame 中的前 5 張圖片"
   ]
  },
  {
   "cell_type": "code",
   "execution_count": null,
   "metadata": {
    "scrolled": true
   },
   "outputs": [],
   "source": [
    "# PIL 只用在Python2，所以Python3中要改下載Pillo才能from PIL import Image\n",
    "from PIL import Image\n",
    "from io import BytesIO\n",
    "import numpy as np\n",
    "import matplotlib.pyplot as plt\n",
    "\n",
    "# 請用 df.loc[...] 得到第一筆資料的連結\n",
    "# 因為 url不是一個變數，而是欄位名稱，所以要加上單引號'url'\n",
    "first_link = df1.loc[0,'url']\n",
    "# How to read image data from a URL in Python? Ans > https://stackoverflow.com/questions/7391945/how-do-i-read-image-data-from-a-url-in-python\n",
    "response = requests.get(first_link)\n",
    "img = Image.open(BytesIO(response.content))\n",
    "type(img)\n",
    "\n",
    "# Convert img to numpy array 參考資料https://blog.csdn.net/liuweizj12/article/details/80221537\n",
    "img = np.array(img) \n",
    "type(img)\n",
    "\n",
    "# 把圖片印出來要用plt.imshow() or plt.show()，不是用print(img)，差異為plt.imshow()可显示图片，同时也显示其格式，加上plt.show()后，结果仅显示图片，不显示格式。\n",
    "print(img)\n",
    "print(img.shape)\n",
    "img1 = plt.imshow(img)\n",
    "img2 = plt.show()\n",
    "type(img)"
   ]
  },
  {
   "cell_type": "code",
   "execution_count": null,
   "metadata": {},
   "outputs": [],
   "source": [
    "url_list = df1.loc[:,['url']]\n",
    "print(url_list)"
   ]
  },
  {
   "cell_type": "code",
   "execution_count": null,
   "metadata": {},
   "outputs": [],
   "source": [
    "def img2arr_fromURLs(url_list, resize = False):\n",
    "    \"\"\"\n",
    "    請完成這個 Function\n",
    "    Args\n",
    "        - url_list: list of URLs\n",
    "        - resize: bool\n",
    "    Return\n",
    "        - list of array\n",
    "    \"\"\"\n",
    "#     img_list = url_list = df1.loc[:,['url']]\n",
    "    img_list = url_list\n",
    "    \n",
    "    \n",
    "    \n",
    "    return img_list"
   ]
  },
  {
   "cell_type": "code",
   "execution_count": null,
   "metadata": {
    "scrolled": true
   },
   "outputs": [],
   "source": [
    "img2arr_fromURLs"
   ]
  },
  {
   "cell_type": "code",
   "execution_count": null,
   "metadata": {},
   "outputs": [],
   "source": [
    "import matplotlib.pyplot as plt\n",
    "\n",
    "result = img2arr_fromURLs(df1.loc[[0,1,2,3,4],['url']])\n",
    "print(result)\n",
    "type(result)\n",
    "print(\"Total images that we got: %i \" % len(result)) # 有些連結可能失效囉\n",
    "\n",
    "# im_get = result.values\n",
    "# im_get\n",
    "\n",
    "# Image.fromarray(np.uint8(im_get))\n",
    "\n",
    "for im_get in result:\n",
    "    plt.imshow(im_get)\n",
    "    plt.show()"
   ]
  },
  {
   "cell_type": "code",
   "execution_count": null,
   "metadata": {},
   "outputs": [],
   "source": []
  }
 ],
 "metadata": {
  "anaconda-cloud": {},
  "kernelspec": {
   "display_name": "Python 3",
   "language": "python",
   "name": "python3"
  },
  "language_info": {
   "codemirror_mode": {
    "name": "ipython",
    "version": 3
   },
   "file_extension": ".py",
   "mimetype": "text/x-python",
   "name": "python",
   "nbconvert_exporter": "python",
   "pygments_lexer": "ipython3",
   "version": "3.7.6"
  }
 },
 "nbformat": 4,
 "nbformat_minor": 1
}
