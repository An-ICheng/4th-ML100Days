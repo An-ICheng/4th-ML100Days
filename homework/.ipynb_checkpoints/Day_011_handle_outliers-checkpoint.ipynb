{
 "cells": [
  {
   "cell_type": "markdown",
   "metadata": {},
   "source": [
    "# 處理 outliers\n",
    "* 新增欄位註記\n",
    "* outliers 或 NA 填補\n",
    "    1. 平均數 (mean)\n",
    "    2. 中位數 (median, or Q50)\n",
    "    3. 最大/最小值 (max/min, Q100, Q0)\n",
    "    4. 分位數 (quantile)"
   ]
  },
  {
   "cell_type": "markdown",
   "metadata": {},
   "source": [
    "# [教學目標]\n",
    "為了要處理離群值, 我們要先學會計算其他的統計量, 並且還有其他的挑整方式"
   ]
  },
  {
   "cell_type": "markdown",
   "metadata": {},
   "source": [
    "# [範例重點]\n",
    "- 計算並觀察百分位數 (In[4], In[7])\n",
    "- 計算中位數的方式 (In[8])\n",
    "- 計算眾數 (In[9], In[10])\n",
    "- 計算標準化與最大最小化 (In[11])"
   ]
  },
  {
   "cell_type": "code",
   "execution_count": 1,
   "metadata": {},
   "outputs": [
    {
     "name": "stdout",
     "output_type": "stream",
     "text": [
      "Path of read in data: /Users/anncheng/Documents/GitHub/4th-ML100Days/data/application_train.csv\n"
     ]
    },
    {
     "data": {
      "text/plain": [
       "False"
      ]
     },
     "execution_count": 1,
     "metadata": {},
     "output_type": "execute_result"
    }
   ],
   "source": [
    "# Import 需要的套件\n",
    "import os\n",
    "import numpy as np\n",
    "import pandas as pd\n",
    "import matplotlib.pyplot as plt\n",
    "\n",
    "%matplotlib inline\n",
    "\n",
    "# 設定 data_path\n",
    "dir_data = '/Users/anncheng/Documents/GitHub/4th-ML100Days/data/'\n",
    "\n",
    "f_app = os.path.join(dir_data, 'application_train.csv')\n",
    "print('Path of read in data: %s' % (f_app))\n",
    "app_train = pd.read_csv(f_app)\n",
    "app_train.head()\n",
    "\n",
    "# 如果欄位中有 NA, describe 會有問題。用app_train.isnull().any()可知哪些column有NA\n",
    "app_train['AMT_ANNUITY'].describe()\n"
   ]
  },
  {
   "cell_type": "code",
   "execution_count": 2,
   "metadata": {},
   "outputs": [
    {
     "name": "stdout",
     "output_type": "stream",
     "text": [
      "[1615.5, 16524.0, 24903.0, 34596.0, 258025.5]\n"
     ]
    }
   ],
   "source": [
    "# Ignore NA, 計算五值\n",
    "five_num = [0, 25, 50, 75, 100]\n",
    "\n",
    "'''\n",
    "app_train['AMT_ANNUITY'] # 列出column AMT_ANNUITY裡面的值\n",
    "app_train[~app_train['AMT_ANNUITY'].isnull()] # 把是Ture的row留下來後，呈現整個dataframe符合是Ture的row\n",
    "app_train[~app_train['AMT_ANNUITY'].isnull()]['AMT_ANNUITY'] # 從整個dataframe符合是Ture的row中，取出column AMT_ANNUITY裡面的值（此時已不包含NA因為已經把是Ture的row留下來後)\n",
    "'''\n",
    "# 在In[9]也用到quantile > https://github.com/An-ICheng/4th-ML100Days/blob/master/homework/Day_008_HW.ipynb\n",
    "# np.percentile doc > https://docs.scipy.org/doc/numpy/reference/generated/numpy.percentile.html\n",
    "# for x in y 所以一定要出現x跟y，要把要填入的內容命名的跟 x、y一樣程式才不會出錯\n",
    "# 每次for迴圈都出來一個值，放在[]裡，所以print(quantile_5s)才會長的像array、list那樣\n",
    "quantile_5s = [np.percentile(app_train[~app_train['AMT_ANNUITY'].isnull()]['AMT_ANNUITY'], q = i) for i in five_num]\n",
    "print(quantile_5s) # 結果與用describe一樣"
   ]
  },
  {
   "cell_type": "code",
   "execution_count": 3,
   "metadata": {},
   "outputs": [
    {
     "data": {
      "image/png": "[encoded data removed]",
      "text/plain": [
       "<Figure size 432x288 with 1 Axes>"
      ]
     },
     "metadata": {
      "needs_background": "light"
     },
     "output_type": "display_data"
    }
   ],
   "source": [
    "app_train[~app_train['AMT_ANNUITY'].isnull()]['AMT_ANNUITY'].hist(bins = 10) # bins指histogram中長條柱子的個數\n",
    "plt.show()"
   ]
  },
  {
   "cell_type": "code",
   "execution_count": 4,
   "metadata": {},
   "outputs": [],
   "source": [
    "# 試著將 max 取代為 q99\n",
    "'''\n",
    "app_train['AMT_ANNUITY'].max() # 258025.5\n",
    "app_train['AMT_ANNUITY'] == app_train['AMT_ANNUITY'].max()\n",
    "app_train[app_train['AMT_ANNUITY'] == app_train['AMT_ANNUITY'].max()]\n",
    "app_train['AMT_ANNUITY'].max() == np.percentile(app_train[~app_train['AMT_ANNUITY'].isnull()]['AMT_ANNUITY'], q = 99) # 此行會error，沒辦法把某個數值直接指定為q99，要像上一行那樣才可以\n",
    "'''\n",
    "app_train[app_train['AMT_ANNUITY'] == app_train['AMT_ANNUITY'].max()] = np.percentile(app_train[~app_train['AMT_ANNUITY'].isnull()]['AMT_ANNUITY'], q = 99)\n"
   ]
  },
  {
   "cell_type": "code",
   "execution_count": 5,
   "metadata": {},
   "outputs": [
    {
     "name": "stdout",
     "output_type": "stream",
     "text": [
      "[1615.5, 16524.0, 24903.0, 34596.0, 230161.5]\n"
     ]
    }
   ],
   "source": [
    "five_num = [0, 25, 50, 75, 100]\n",
    "quantile_5s = [np.percentile(app_train[~app_train['AMT_ANNUITY'].isnull()]['AMT_ANNUITY'], q = i) for i in five_num]\n",
    "print(quantile_5s) # 因為在上一個cell已將最大值(q=100)改為與q=99的數字，所以這個cell的q=100的值等於q=99的值"
   ]
  },
  {
   "cell_type": "code",
   "execution_count": 6,
   "metadata": {},
   "outputs": [
    {
     "data": {
      "text/plain": [
       "24903.0"
      ]
     },
     "execution_count": 6,
     "metadata": {},
     "output_type": "execute_result"
    }
   ],
   "source": [
    "# 得到 median 的另外一種方法\n",
    "np.median(app_train[~app_train['AMT_ANNUITY'].isnull()]['AMT_ANNUITY'])"
   ]
  },
  {
   "cell_type": "code",
   "execution_count": 7,
   "metadata": {},
   "outputs": [
    {
     "name": "stdout",
     "output_type": "stream",
     "text": [
      "ModeResult(mode=array([9000.]), count=array([6385]))\n",
      "Elapsed time: 0.257 secs\n"
     ]
    }
   ],
   "source": [
    "# 計算眾數 (mode)\n",
    "from scipy.stats import mode\n",
    "import time\n",
    "\n",
    "# 看哪一種計算眾數的方式比較快\n",
    "start_time = time.time() # time.time()為當下時間\n",
    "mode_get = mode(app_train[~app_train['AMT_ANNUITY'].isnull()]['AMT_ANNUITY'])\n",
    "print(mode_get)\n",
    "print(\"Elapsed time: %.3f secs\" % (time.time() - start_time)) # 拿執行到此行的當下時間減執行start_time = time.time()的當下時間\n"
   ]
  },
  {
   "cell_type": "code",
   "execution_count": 8,
   "metadata": {},
   "outputs": [
    {
     "name": "stdout",
     "output_type": "stream",
     "text": [
      "(9000.0, 6385)\n",
      "Elapsed time: 0.354 secs\n"
     ]
    }
   ],
   "source": [
    "# 計算眾數 (mode)\n",
    "# 較快速的方式\n",
    "# 此cell程式碼都看不懂？？？\n",
    "from collections import defaultdict\n",
    "\n",
    "start_time = time.time()\n",
    "mode_dict = defaultdict(lambda:0)\n",
    "\n",
    "for value in app_train[~app_train['AMT_ANNUITY'].isnull()]['AMT_ANNUITY']:\n",
    "    mode_dict[value] += 1\n",
    "    \n",
    "mode_get = sorted(mode_dict.items(), key=lambda kv: kv[1], reverse=True)\n",
    "print(mode_get[0])\n",
    "print(\"Elapsed time: %.3f secs\" % (time.time() - start_time))"
   ]
  },
  {
   "cell_type": "markdown",
   "metadata": {},
   "source": [
    "## 連續值標準化\n",
    "### 1. Z-transform: $ \\frac{(x - mean(x))}{std(x)} $\n",
    "### 2. Range (0 ~ 1): $ \\frac{x - min(x)}{max(x) - min(x)} $\n",
    "### 3. Range (-1 ~ 1): $ (\\frac{x - min(x)}{max(x) - min(x)} - 0.5) * 2 $"
   ]
  },
  {
   "cell_type": "code",
   "execution_count": 14,
   "metadata": {
    "scrolled": true
   },
   "outputs": [
    {
     "data": {
      "image/png": "[encoded data removed]",
      "text/plain": [
       "<Figure size 432x288 with 1 Axes>"
      ]
     },
     "metadata": {
      "needs_background": "light"
     },
     "output_type": "display_data"
    },
    {
     "data": {
      "image/png": "[encoded data removed]",
      "text/plain": [
       "<Figure size 432x288 with 1 Axes>"
      ]
     },
     "metadata": {
      "needs_background": "light"
     },
     "output_type": "display_data"
    },
    {
     "data": {
      "image/png": "[encoded data removed]",
      "text/plain": [
       "<Figure size 432x288 with 1 Axes>"
      ]
     },
     "metadata": {
      "needs_background": "light"
     },
     "output_type": "display_data"
    }
   ],
   "source": [
    "# 以 AMT_CREDIT 為例\n",
    "app_train['AMT_CREDIT'].hist(bins = 50)\n",
    "plt.title(\"Original\")\n",
    "plt.show()\n",
    "value = app_train['AMT_CREDIT'].values # 讀取Series的value。type(app_train['AMT_CREDIT'])為series。reference > https://ithelp.ithome.com.tw/articles/10193394\n",
    "\n",
    "# app_train['AMT_CREDIT_Norm1'] 就增加了一個新的欄位。reference > https://dotblogs.com.tw/kevinya/2018/06/04/124135\n",
    "app_train['AMT_CREDIT_Norm1'] = ( value - np.mean(value) ) / ( np.std(value) ) \n",
    "app_train['AMT_CREDIT_Norm1'].hist(bins = 50)\n",
    "plt.title(\"Normalized with Z-transform\")\n",
    "plt.show()\n",
    "\n",
    "app_train['AMT_CREDIT_Norm2'] = ( value - min(value) ) / ( max(value) - min(value) )\n",
    "app_train['AMT_CREDIT_Norm2'].hist(bins = 50)\n",
    "plt.title(\"Normalized to 0 ~ 1\")\n",
    "plt.show()"
   ]
  },
  {
   "cell_type": "markdown",
   "metadata": {},
   "source": [
    "# It's your turn\n",
    "### 1. 列出 AMT_ANNUITY 的 q0 - q100\n",
    "### 2.1 將 AMT_ANNUITY 中的 NAs 暫時以中位數填補\n",
    "### 2.2 將 AMT_ANNUITY 的數值標準化至 -1 ~ 1 間\n",
    "### 3. 將 AMT_GOOD_PRICE 的 NAs 以眾數填補\n"
   ]
  },
  {
   "cell_type": "code",
   "execution_count": null,
   "metadata": {},
   "outputs": [],
   "source": []
  }
 ],
 "metadata": {
  "anaconda-cloud": {},
  "kernelspec": {
   "display_name": "Python 3",
   "language": "python",
   "name": "python3"
  },
  "language_info": {
   "codemirror_mode": {
    "name": "ipython",
    "version": 3
   },
   "file_extension": ".py",
   "mimetype": "text/x-python",
   "name": "python",
   "nbconvert_exporter": "python",
   "pygments_lexer": "ipython3",
   "version": "3.7.7"
  }
 },
 "nbformat": 4,
 "nbformat_minor": 1
}
